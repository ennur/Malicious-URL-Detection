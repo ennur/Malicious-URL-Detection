{
  "nbformat": 4,
  "nbformat_minor": 0,
  "metadata": {
    "colab": {
      "name": "malicious_URL_detection.ipynb",
      "provenance": [],
      "collapsed_sections": [],
      "mount_file_id": "13_7Erk-sI2K3Rbgi43nAnHZQVOwEHatf",
      "authorship_tag": "ABX9TyOiZjGrKIazQsVrLByi3tGF",
      "include_colab_link": true
    },
    "kernelspec": {
      "display_name": "Python 3",
      "name": "python3"
    }
  },
  "cells": [
    {
      "cell_type": "markdown",
      "metadata": {
        "id": "view-in-github",
        "colab_type": "text"
      },
      "source": [
        "<a href=\"https://colab.research.google.com/github/ennur/Malicious-URL-Detection/blob/main/malicious_URL_detection.ipynb\" target=\"_parent\"><img src=\"https://colab.research.google.com/assets/colab-badge.svg\" alt=\"Open In Colab\"/></a>"
      ]
    },
    {
      "cell_type": "code",
      "metadata": {
        "id": "8V9N9Xe4BPvN",
        "colab": {
          "base_uri": "https://localhost:8080/"
        },
        "outputId": "61061a48-c7bd-48a2-ce69-1c6844fb76c3"
      },
      "source": [
        "import pandas as pd\n",
        "df = pd.read_csv(\".../urldata.csv\")\n",
        "\n",
        "df.drop(columns=['Unnamed: 0'],axis=1,inplace=True)\n",
        "df.head()\n",
        "\n",
        "index_names = df[ df['label'].isnull() ].index \n",
        "df.drop(index_names,axis=0,inplace=True)\n",
        "df.tail"
      ],
      "execution_count": 1,
      "outputs": [
        {
          "output_type": "execute_result",
          "data": {
            "text/plain": [
              "<bound method NDFrame.tail of                                                       url      label  result\n",
              "0                                  https://www.google.com     benign       0\n",
              "1                                 https://www.youtube.com     benign       0\n",
              "2                                https://www.facebook.com     benign       0\n",
              "3                                   https://www.baidu.com     benign       0\n",
              "4                               https://www.wikipedia.org     benign       0\n",
              "...                                                   ...        ...     ...\n",
              "450171        http://ecct-it.com/docmmmnn/aptgd/index.php  malicious       1\n",
              "450172  http://faboleena.com/js/infortis/jquery/plugin...  malicious       1\n",
              "450173  http://faboleena.com/js/infortis/jquery/plugin...  malicious       1\n",
              "450174                             http://atualizapj.com/  malicious       1\n",
              "450175  http://writeassociate.com/test/Portal/inicio/I...  malicious       1\n",
              "\n",
              "[450176 rows x 3 columns]>"
            ]
          },
          "metadata": {
            "tags": []
          },
          "execution_count": 1
        }
      ]
    },
    {
      "cell_type": "code",
      "metadata": {
        "id": "ZJfzBYq_lLYD",
        "colab": {
          "base_uri": "https://localhost:8080/",
          "height": 647
        },
        "outputId": "b2dacb7e-3b00-4584-a671-d8f3f2296398"
      },
      "source": [
        "#shuffle\n",
        "df = df.sample(frac=1).reset_index(drop=True)\n",
        "df.head(n=20)"
      ],
      "execution_count": 2,
      "outputs": [
        {
          "output_type": "execute_result",
          "data": {
            "text/html": [
              "<div>\n",
              "<style scoped>\n",
              "    .dataframe tbody tr th:only-of-type {\n",
              "        vertical-align: middle;\n",
              "    }\n",
              "\n",
              "    .dataframe tbody tr th {\n",
              "        vertical-align: top;\n",
              "    }\n",
              "\n",
              "    .dataframe thead th {\n",
              "        text-align: right;\n",
              "    }\n",
              "</style>\n",
              "<table border=\"1\" class=\"dataframe\">\n",
              "  <thead>\n",
              "    <tr style=\"text-align: right;\">\n",
              "      <th></th>\n",
              "      <th>url</th>\n",
              "      <th>label</th>\n",
              "      <th>result</th>\n",
              "    </tr>\n",
              "  </thead>\n",
              "  <tbody>\n",
              "    <tr>\n",
              "      <th>0</th>\n",
              "      <td>http://scredlble.com/login/GDrive/1ff71c3539f0...</td>\n",
              "      <td>malicious</td>\n",
              "      <td>1</td>\n",
              "    </tr>\n",
              "    <tr>\n",
              "      <th>1</th>\n",
              "      <td>https://www.skydive.tv/</td>\n",
              "      <td>benign</td>\n",
              "      <td>0</td>\n",
              "    </tr>\n",
              "    <tr>\n",
              "      <th>2</th>\n",
              "      <td>https://www.worshipbanners.org/david_stanfield...</td>\n",
              "      <td>benign</td>\n",
              "      <td>0</td>\n",
              "    </tr>\n",
              "    <tr>\n",
              "      <th>3</th>\n",
              "      <td>http://95.213.186.93/information.cgi</td>\n",
              "      <td>malicious</td>\n",
              "      <td>1</td>\n",
              "    </tr>\n",
              "    <tr>\n",
              "      <th>4</th>\n",
              "      <td>http://ashooooor-001-site1.ftempurl.com/b7aba</td>\n",
              "      <td>malicious</td>\n",
              "      <td>1</td>\n",
              "    </tr>\n",
              "    <tr>\n",
              "      <th>5</th>\n",
              "      <td>https://www.umontreal.ca/english/overview/over...</td>\n",
              "      <td>benign</td>\n",
              "      <td>0</td>\n",
              "    </tr>\n",
              "    <tr>\n",
              "      <th>6</th>\n",
              "      <td>https://www.ca.linkedin.com/directory/people/c...</td>\n",
              "      <td>benign</td>\n",
              "      <td>0</td>\n",
              "    </tr>\n",
              "    <tr>\n",
              "      <th>7</th>\n",
              "      <td>https://www.selau642.wordpress.com/2008/06/17/...</td>\n",
              "      <td>benign</td>\n",
              "      <td>0</td>\n",
              "    </tr>\n",
              "    <tr>\n",
              "      <th>8</th>\n",
              "      <td>https://www.maxgalleries.com/store/store-stars...</td>\n",
              "      <td>benign</td>\n",
              "      <td>0</td>\n",
              "    </tr>\n",
              "    <tr>\n",
              "      <th>9</th>\n",
              "      <td>https://www.en.wikipedia.org/wiki/Category:Can...</td>\n",
              "      <td>benign</td>\n",
              "      <td>0</td>\n",
              "    </tr>\n",
              "    <tr>\n",
              "      <th>10</th>\n",
              "      <td>http://gkjx168.com/images?http://us.battle.net...</td>\n",
              "      <td>malicious</td>\n",
              "      <td>1</td>\n",
              "    </tr>\n",
              "    <tr>\n",
              "      <th>11</th>\n",
              "      <td>http://victorcasino.com/</td>\n",
              "      <td>malicious</td>\n",
              "      <td>1</td>\n",
              "    </tr>\n",
              "    <tr>\n",
              "      <th>12</th>\n",
              "      <td>https://www.rottentomatoes.com/celebrity/loren...</td>\n",
              "      <td>benign</td>\n",
              "      <td>0</td>\n",
              "    </tr>\n",
              "    <tr>\n",
              "      <th>13</th>\n",
              "      <td>https://www.apartmenthomeliving.com/apartment-...</td>\n",
              "      <td>benign</td>\n",
              "      <td>0</td>\n",
              "    </tr>\n",
              "    <tr>\n",
              "      <th>14</th>\n",
              "      <td>https://www.pr-inside.com/just-released-lauren...</td>\n",
              "      <td>benign</td>\n",
              "      <td>0</td>\n",
              "    </tr>\n",
              "    <tr>\n",
              "      <th>15</th>\n",
              "      <td>https://www.tulumba.com/storeitem.asp?ic=VIFR0...</td>\n",
              "      <td>benign</td>\n",
              "      <td>0</td>\n",
              "    </tr>\n",
              "    <tr>\n",
              "      <th>16</th>\n",
              "      <td>https://www.creatorlabs.com/</td>\n",
              "      <td>benign</td>\n",
              "      <td>0</td>\n",
              "    </tr>\n",
              "    <tr>\n",
              "      <th>17</th>\n",
              "      <td>http://thephysicsforum.com/bank-of-america.sec...</td>\n",
              "      <td>malicious</td>\n",
              "      <td>1</td>\n",
              "    </tr>\n",
              "    <tr>\n",
              "      <th>18</th>\n",
              "      <td>http://www.uhtfmcg.com/wp-content/themes/merg/...</td>\n",
              "      <td>malicious</td>\n",
              "      <td>1</td>\n",
              "    </tr>\n",
              "    <tr>\n",
              "      <th>19</th>\n",
              "      <td>http://3designcenter.com/securimage/database/o...</td>\n",
              "      <td>malicious</td>\n",
              "      <td>1</td>\n",
              "    </tr>\n",
              "  </tbody>\n",
              "</table>\n",
              "</div>"
            ],
            "text/plain": [
              "                                                  url      label  result\n",
              "0   http://scredlble.com/login/GDrive/1ff71c3539f0...  malicious       1\n",
              "1                             https://www.skydive.tv/     benign       0\n",
              "2   https://www.worshipbanners.org/david_stanfield...     benign       0\n",
              "3                http://95.213.186.93/information.cgi  malicious       1\n",
              "4       http://ashooooor-001-site1.ftempurl.com/b7aba  malicious       1\n",
              "5   https://www.umontreal.ca/english/overview/over...     benign       0\n",
              "6   https://www.ca.linkedin.com/directory/people/c...     benign       0\n",
              "7   https://www.selau642.wordpress.com/2008/06/17/...     benign       0\n",
              "8   https://www.maxgalleries.com/store/store-stars...     benign       0\n",
              "9   https://www.en.wikipedia.org/wiki/Category:Can...     benign       0\n",
              "10  http://gkjx168.com/images?http://us.battle.net...  malicious       1\n",
              "11                           http://victorcasino.com/  malicious       1\n",
              "12  https://www.rottentomatoes.com/celebrity/loren...     benign       0\n",
              "13  https://www.apartmenthomeliving.com/apartment-...     benign       0\n",
              "14  https://www.pr-inside.com/just-released-lauren...     benign       0\n",
              "15  https://www.tulumba.com/storeitem.asp?ic=VIFR0...     benign       0\n",
              "16                       https://www.creatorlabs.com/     benign       0\n",
              "17  http://thephysicsforum.com/bank-of-america.sec...  malicious       1\n",
              "18  http://www.uhtfmcg.com/wp-content/themes/merg/...  malicious       1\n",
              "19  http://3designcenter.com/securimage/database/o...  malicious       1"
            ]
          },
          "metadata": {
            "tags": []
          },
          "execution_count": 2
        }
      ]
    },
    {
      "cell_type": "code",
      "metadata": {
        "id": "FHPZpwe8X-hY",
        "colab": {
          "base_uri": "https://localhost:8080/"
        },
        "outputId": "dd6f343b-0557-4ee2-86bc-57e14206aeb1"
      },
      "source": [
        "from urllib.parse import urlparse\n",
        "X,y = df['url'],df['result']\n",
        "X.head()"
      ],
      "execution_count": 3,
      "outputs": [
        {
          "output_type": "execute_result",
          "data": {
            "text/plain": [
              "0    http://scredlble.com/login/GDrive/1ff71c3539f0...\n",
              "1                              https://www.skydive.tv/\n",
              "2    https://www.worshipbanners.org/david_stanfield...\n",
              "3                 http://95.213.186.93/information.cgi\n",
              "4        http://ashooooor-001-site1.ftempurl.com/b7aba\n",
              "Name: url, dtype: object"
            ]
          },
          "metadata": {
            "tags": []
          },
          "execution_count": 3
        }
      ]
    },
    {
      "cell_type": "code",
      "metadata": {
        "id": "5PRMJZIgRMzg",
        "colab": {
          "base_uri": "https://localhost:8080/"
        },
        "outputId": "43948276-5eab-4c73-8e14-7b8117398186"
      },
      "source": [
        "y.value_counts(normalize=True)"
      ],
      "execution_count": 4,
      "outputs": [
        {
          "output_type": "execute_result",
          "data": {
            "text/plain": [
              "0    0.768006\n",
              "1    0.231994\n",
              "Name: result, dtype: float64"
            ]
          },
          "metadata": {
            "tags": []
          },
          "execution_count": 4
        }
      ]
    },
    {
      "cell_type": "code",
      "metadata": {
        "id": "VLvwYr4PRcki"
      },
      "source": [
        "from sklearn.feature_extraction.text import CountVectorizer\n",
        "import re # for regex\n",
        "\n",
        "def custom_tokenizer(string):\n",
        "  final = []\n",
        "  tokens = [a for a in list(urlparse(string)) if a]\n",
        "  for t in tokens:\n",
        "    final.extend(re.compile(\"[.-]\").split(t))\n",
        "  return final"
      ],
      "execution_count": 5,
      "outputs": []
    },
    {
      "cell_type": "code",
      "metadata": {
        "id": "BZ3vSHc2UItB"
      },
      "source": [
        "from sklearn.pipeline import Pipeline\n",
        "from sklearn.model_selection import cross_val_score, GridSearchCV, train_test_split\n",
        "\n",
        "vect = CountVectorizer(tokenizer=custom_tokenizer)"
      ],
      "execution_count": 6,
      "outputs": []
    },
    {
      "cell_type": "code",
      "metadata": {
        "id": "RQPO-trjs_lV",
        "colab": {
          "base_uri": "https://localhost:8080/"
        },
        "outputId": "894e3f15-0f6d-4ac4-803e-d18bcc15658c"
      },
      "source": [
        "from sklearn.tree import DecisionTreeClassifier\n",
        "from sklearn.metrics import roc_curve,roc_auc_score,precision_recall_curve,f1_score,auc\n",
        "\n",
        "X_train, X_test, y_train, y_test = train_test_split(X, y, test_size=0.2)\n",
        "X_train, X_val, y_train, y_val = train_test_split(X_train, y_train, test_size=0.25)\n",
        "X_train.shape, X_val.shape, X_test.shape\n"
      ],
      "execution_count": 9,
      "outputs": [
        {
          "output_type": "execute_result",
          "data": {
            "text/plain": [
              "((270105,), (90035,), (90036,))"
            ]
          },
          "metadata": {
            "tags": []
          },
          "execution_count": 9
        }
      ]
    },
    {
      "cell_type": "code",
      "metadata": {
        "id": "rwMl6MMuQtim"
      },
      "source": [
        "from matplotlib import pyplot\n",
        "from sklearn.ensemble import RandomForestClassifier\n",
        "from sklearn.model_selection import RandomizedSearchCV, StratifiedKFold\n",
        "from joblib import dump,load"
      ],
      "execution_count": 10,
      "outputs": []
    },
    {
      "cell_type": "code",
      "metadata": {
        "colab": {
          "base_uri": "https://localhost:8080/"
        },
        "id": "8Qvs07MKFCTm",
        "outputId": "c5671a35-246b-4112-a4aa-f5b80c4ed49c"
      },
      "source": [
        "random_grid = {'model__n_estimators': [10,20,30,40,50],\n",
        "               'model__min_samples_split':[1,2,3,4],\n",
        "               'model__min_samples_leaf':[1,2,3,4]}\n",
        "\n",
        "model = RandomForestClassifier()\n",
        "tree_pipe = Pipeline([('vect', vect), ('model', model)])\n",
        "\n",
        "rf_random = RandomizedSearchCV(tree_pipe, random_grid, n_iter = 10, cv = 5, verbose=2, random_state=42, n_jobs = -1)\n",
        "rf_random.fit(X_train,y_train)"
      ],
      "execution_count": 11,
      "outputs": [
        {
          "output_type": "stream",
          "text": [
            "Fitting 5 folds for each of 10 candidates, totalling 50 fits\n"
          ],
          "name": "stdout"
        },
        {
          "output_type": "stream",
          "text": [
            "[Parallel(n_jobs=-1)]: Using backend LokyBackend with 2 concurrent workers.\n",
            "[Parallel(n_jobs=-1)]: Done  37 tasks      | elapsed: 34.1min\n",
            "[Parallel(n_jobs=-1)]: Done  50 out of  50 | elapsed: 48.5min finished\n"
          ],
          "name": "stderr"
        },
        {
          "output_type": "execute_result",
          "data": {
            "text/plain": [
              "['finalized_model.sav']"
            ]
          },
          "metadata": {
            "tags": []
          },
          "execution_count": 11
        }
      ]
    },
    {
      "cell_type": "code",
      "metadata": {
        "colab": {
          "base_uri": "https://localhost:8080/"
        },
        "id": "6xGLHHFOQK4i",
        "outputId": "084f8974-ef8e-44a3-d312-da6e96876f42"
      },
      "source": [
        "filename = 'finalized_model.sav'\n",
        "dump(rf_random.best_estimator_, filename)\n",
        "\n",
        "train_proba = rf_random.best_estimator_.predict_proba(X_val)\n",
        "train_proba = train_proba[:, 1]\n",
        "\n",
        "yhat = rf_random.best_estimator_.predict(X_val)\n",
        "lr_precision, lr_recall, _ = precision_recall_curve(y_val, train_proba)\n",
        "lr_f1, lr_auc = f1_score(y_val, yhat), auc(lr_recall, lr_precision)\n",
        "\n",
        "print(\" f1_score : {}\" .format(lr_f1))\n",
        "print(\" auc : {}\" .format(lr_auc))\n"
      ],
      "execution_count": 12,
      "outputs": [
        {
          "output_type": "stream",
          "text": [
            " f1_score : 0.9959610926558803\n",
            " auc : 0.9992570216703469\n"
          ],
          "name": "stdout"
        }
      ]
    },
    {
      "cell_type": "code",
      "metadata": {
        "colab": {
          "base_uri": "https://localhost:8080/",
          "height": 278
        },
        "id": "TBOVwtyRbQx6",
        "outputId": "a62ce6b2-0678-4fad-c93c-9f2d52094188"
      },
      "source": [
        "pyplot.plot(lr_recall, lr_precision, marker='.', label='RandomForestClassifier')\n",
        "pyplot.xlabel('False Positive Rate')\n",
        "pyplot.ylabel('True Positive Rate')\n",
        "# show the legend\n",
        "pyplot.legend()\n",
        "# show the plot\n",
        "pyplot.show()"
      ],
      "execution_count": 13,
      "outputs": [
        {
          "output_type": "display_data",
          "data": {
            "image/png": "[encoded data removed]",
            "text/plain": [
              "<Figure size 432x288 with 1 Axes>"
            ]
          },
          "metadata": {
            "tags": [],
            "needs_background": "light"
          }
        }
      ]
    },
    {
      "cell_type": "code",
      "metadata": {
        "id": "hfz6mfuYZMvW"
      },
      "source": [
        "from sklearn.metrics import confusion_matrix\n",
        "import seaborn as sns\n",
        "import numpy as np"
      ],
      "execution_count": 20,
      "outputs": []
    },
    {
      "cell_type": "code",
      "metadata": {
        "id": "_--gI0nPeCZ6"
      },
      "source": [
        "def confusion_matrix_visualization(con_mat):\n",
        "\n",
        "  group_names = [\"True_Neg\",\"False_Pos\",\"False_Neg\",\"True_Pos\"]\n",
        "  group_counts= [\"{0:0.0f}\".format(value) for value in\n",
        "                con_mat.flatten()]\n",
        "  group_percentages = [\"{0:.2%}\".format(value) for value in\n",
        "                     con_mat.flatten()/np.sum(con_mat)]\n",
        "\n",
        "  labels = [f\"{v1}\\n{v2}\\n{v3}\"for v1, v2, v3 in\n",
        "          zip(group_names,group_counts,group_percentages)]\n",
        "\n",
        "  labels = np.asarray(labels).reshape(2,2) \n",
        "  return labels"
      ],
      "execution_count": 17,
      "outputs": []
    },
    {
      "cell_type": "code",
      "metadata": {
        "id": "-DuZxvPWnGle"
      },
      "source": [
        "def false_positive_rate(conf_mat):\n",
        "  return ((conf_mat[1][0] / float(sum(conf_mat[1])))*100)\n",
        "\n",
        "def false_negative_rate(conf_matrix):\n",
        "  return ( (conf_matrix[0][1] / float(sum(conf_matrix[0]))*100))"
      ],
      "execution_count": 48,
      "outputs": []
    },
    {
      "cell_type": "code",
      "metadata": {
        "colab": {
          "base_uri": "https://localhost:8080/",
          "height": 282
        },
        "id": "Uw3Xqm9Fcnzr",
        "outputId": "f6801c18-3ecc-4d9f-846c-64cb3d157c3c"
      },
      "source": [
        "cm_val=confusion_matrix(y_val, train_proba.round())\n",
        "sns.heatmap(cm_val, annot=confusion_matrix_visualization(cm_val), fmt='', cmap='Blues')"
      ],
      "execution_count": 21,
      "outputs": [
        {
          "output_type": "execute_result",
          "data": {
            "text/plain": [
              "<matplotlib.axes._subplots.AxesSubplot at 0x7f8dee70d290>"
            ]
          },
          "metadata": {
            "tags": []
          },
          "execution_count": 21
        },
        {
          "output_type": "display_data",
          "data": {
            "image/png": "[encoded data removed]",
            "text/plain": [
              "<Figure size 432x288 with 2 Axes>"
            ]
          },
          "metadata": {
            "tags": [],
            "needs_background": "light"
          }
        }
      ]
    },
    {
      "cell_type": "code",
      "metadata": {
        "colab": {
          "base_uri": "https://localhost:8080/"
        },
        "id": "36jlsdpaIxeT",
        "outputId": "30b2da66-7eea-493d-8056-65b0ad1bc75f"
      },
      "source": [
        "#Precision = TruePositive / (TruePositive + FalsePositive)\n",
        "precision= cm_val[0,0] / (cm_val[0,0]+cm_val[1,0])\n",
        "\n",
        "#Recall = TruePositive / (TruePositive + FalseNegative)\n",
        "#tp rate\n",
        "#Sensitivity \n",
        "recall=cm_val[0,0] /(cm_val[0,0]+cm_val[0,1])\n",
        "\n",
        "print(\" precision : {}\" .format(precision))\n",
        "print(' recall : {}' .format(recall))\n"
      ],
      "execution_count": 23,
      "outputs": [
        {
          "output_type": "stream",
          "text": [
            " precision : 0.9981491389158003\n",
            " recall : 0.9994063993050528\n"
          ],
          "name": "stdout"
        }
      ]
    },
    {
      "cell_type": "code",
      "metadata": {
        "colab": {
          "base_uri": "https://localhost:8080/"
        },
        "id": "FLZRySR3EbR7",
        "outputId": "559b544f-eb47-40e7-951d-19a67326acfa"
      },
      "source": [
        "print(\"False positive rate : %f %%\" % false_positive_rate(cm_val))\n",
        "print('False negative rate : %f %%' % false_negative_rate(cm_val))"
      ],
      "execution_count": 51,
      "outputs": [
        {
          "output_type": "stream",
          "text": [
            "False positive rate : 0.610541 %\n",
            "False negative rate : 0.059360 %\n"
          ],
          "name": "stdout"
        }
      ]
    },
    {
      "cell_type": "code",
      "metadata": {
        "id": "DuWs8SGIH_0W"
      },
      "source": [
        "test_proba = rf_random.best_estimator_.predict(X_test)"
      ],
      "execution_count": 25,
      "outputs": []
    },
    {
      "cell_type": "code",
      "metadata": {
        "colab": {
          "base_uri": "https://localhost:8080/",
          "height": 282
        },
        "id": "BIhIAb8aIkHE",
        "outputId": "ea16cbca-01b9-4a69-9240-83ef6f9dc9e3"
      },
      "source": [
        "cm_test=confusion_matrix(y_test, test_proba)\n",
        "sns.heatmap(cm_val, annot=confusion_matrix_visualization(cm_test), fmt='', cmap='Blues')"
      ],
      "execution_count": 27,
      "outputs": [
        {
          "output_type": "execute_result",
          "data": {
            "text/plain": [
              "<matplotlib.axes._subplots.AxesSubplot at 0x7f8de075c050>"
            ]
          },
          "metadata": {
            "tags": []
          },
          "execution_count": 27
        },
        {
          "output_type": "display_data",
          "data": {
            "image/png": "[encoded data removed]",
            "text/plain": [
              "<Figure size 432x288 with 2 Axes>"
            ]
          },
          "metadata": {
            "tags": [],
            "needs_background": "light"
          }
        }
      ]
    },
    {
      "cell_type": "code",
      "metadata": {
        "colab": {
          "base_uri": "https://localhost:8080/"
        },
        "id": "ZRL7mXq8aV9o",
        "outputId": "e5724bcb-37cd-4c11-95b5-d73052ec78a6"
      },
      "source": [
        "print(\"False positive rate : %f %%\" % false_positive_rate(cm_test))\n",
        "print('False negative rate : %f %%' % false_negative_rate(cm_test))"
      ],
      "execution_count": 52,
      "outputs": [
        {
          "output_type": "stream",
          "text": [
            "False positive rate : 0.670723 %\n",
            "False negative rate : 0.056389 %\n"
          ],
          "name": "stdout"
        }
      ]
    },
    {
      "cell_type": "code",
      "metadata": {
        "id": "oQ6QYRKSfHYu"
      },
      "source": [
        "# predict one sample\n",
        "loaded_pipe = load(\"finalized_model.sav\")"
      ],
      "execution_count": 53,
      "outputs": []
    },
    {
      "cell_type": "code",
      "metadata": {
        "colab": {
          "base_uri": "https://localhost:8080/"
        },
        "id": "YTtHuPgkqswt",
        "outputId": "43566e2b-377e-4c32-ccd7-4090b70c10e8"
      },
      "source": [
        "result = loaded_pipe.predict([\"https://www.kaggle.com/\"])\n",
        "result"
      ],
      "execution_count": 60,
      "outputs": [
        {
          "output_type": "execute_result",
          "data": {
            "text/plain": [
              "array([0])"
            ]
          },
          "metadata": {
            "tags": []
          },
          "execution_count": 60
        }
      ]
    }
  ]
}